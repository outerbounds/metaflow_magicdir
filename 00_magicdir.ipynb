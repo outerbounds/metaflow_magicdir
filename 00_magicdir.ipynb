{
 "cells": [
  {
   "cell_type": "code",
   "execution_count": null,
   "metadata": {},
   "outputs": [],
   "source": [
    "# default_exp md"
   ]
  },
  {
   "cell_type": "markdown",
   "metadata": {},
   "source": [
    "# Metaflow Magic Directory Decorator\n",
    "\n",
    "> Save a directory into Metaflow's Data Store"
   ]
  },
  {
   "cell_type": "code",
   "execution_count": null,
   "metadata": {},
   "outputs": [],
   "source": [
    "#hide\n",
    "from nbdev.showdoc import *"
   ]
  },
  {
   "cell_type": "code",
   "execution_count": null,
   "metadata": {},
   "outputs": [],
   "source": [
    "#export\n",
    "from functools import wraps, partial\n",
    "from pathlib import Path\n",
    "from tarfile import ExtractError, TarFile\n",
    "from io import BytesIO\n",
    "from metaflow.client.core import MetaflowData"
   ]
  },
  {
   "cell_type": "code",
   "execution_count": null,
   "metadata": {},
   "outputs": [],
   "source": [
    "#export\n",
    "def magicdir(_func=None, *, dir):\n",
    "    artifact = 'magicdir'\n",
    "    if _func is None: return partial(magicdir, dir=dir)\n",
    "    @wraps(_func)\n",
    "    def func(self):\n",
    "        from io import BytesIO\n",
    "        from tarfile import TarFile\n",
    "        existing = getattr(self, artifact, None)\n",
    "        Path(dir).mkdir(exist_ok=True)\n",
    "        if existing:\n",
    "            buf = BytesIO(existing)\n",
    "            with TarFile(mode='r', fileobj=buf) as tar:\n",
    "                tar.extractall()\n",
    "        _func(self)\n",
    "        buf = BytesIO()\n",
    "        with TarFile(mode='w', fileobj=buf) as tar:\n",
    "            tar.add(dir)\n",
    "        setattr(self, artifact, buf.getvalue())\n",
    "    return func"
   ]
  },
  {
   "cell_type": "code",
   "execution_count": null,
   "metadata": {},
   "outputs": [],
   "source": [
    "#export\n",
    "def extract_magicdir(data:MetaflowData) -> None:\n",
    "    \"Extract `magicdir` into current directory.\"\n",
    "    if not isinstance(data, MetaflowData):\n",
    "        raise ValueError(f'data must be of type `MetaflowData, got {type(data)} instead')\n",
    "    if not hasattr(data, 'magicdir'):\n",
    "        raise ExtractError(f\"Did not find magicdir attribute in metadata.\")\n",
    "    buf = BytesIO(data.magicdir)\n",
    "    with TarFile(mode='r', fileobj=buf) as tar:\n",
    "        tar.extractall()"
   ]
  }
 ],
 "metadata": {
  "kernelspec": {
   "display_name": "Python 3 (ipykernel)",
   "language": "python",
   "name": "python3"
  }
 },
 "nbformat": 4,
 "nbformat_minor": 4
}
