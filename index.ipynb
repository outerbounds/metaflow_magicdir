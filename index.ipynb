{
 "cells": [
  {
   "cell_type": "markdown",
   "metadata": {},
   "source": [
    "# metaflow_magicdir\n",
    "\n",
    "> Save Entire Directories Into Metaflow's Metadata Store"
   ]
  },
  {
   "cell_type": "markdown",
   "metadata": {},
   "source": [
    "## Install"
   ]
  },
  {
   "cell_type": "markdown",
   "metadata": {},
   "source": [
    "`pip install metaflow_magicdir`"
   ]
  },
  {
   "cell_type": "markdown",
   "metadata": {},
   "source": [
    "## How to use"
   ]
  },
  {
   "cell_type": "markdown",
   "metadata": {},
   "source": [
    "You can use `@magicdir` to pass local directories between metaflow steps.  This will also work remotely."
   ]
  },
  {
   "cell_type": "code",
   "execution_count": null,
   "metadata": {},
   "outputs": [
    {
     "name": "stdout",
     "output_type": "stream",
     "text": [
      "Overwriting examples/example_flow.py\n"
     ]
    }
   ],
   "source": [
    "%%writefile examples/example_flow.py\n",
    "\n",
    "from metaflow import FlowSpec, step\n",
    "from metaflow_magicdir import magicdir\n",
    "\n",
    "\n",
    "class MagicDirFlow(FlowSpec):\n",
    "\n",
    "    @magicdir(dir='mydir')\n",
    "    @step\n",
    "    def start(self):\n",
    "        with open('mydir/output1', 'w') as f:\n",
    "            f.write('hello world')\n",
    "        with open('mydir/output2', 'w') as f:\n",
    "            f.write('hello world again')\n",
    "        self.next(self.end)\n",
    "\n",
    "    @magicdir(dir='mydir')\n",
    "    @step\n",
    "    def end(self):\n",
    "        print('first', open('mydir/output1').read())\n",
    "        print('second', open('mydir/output1').read())\n",
    "\n",
    "if __name__ == \"__main__\":\n",
    "    MagicDirFlow()"
   ]
  },
  {
   "cell_type": "markdown",
   "metadata": {},
   "source": [
    "If you run the above flow, you will see the following output:"
   ]
  },
  {
   "cell_type": "code",
   "execution_count": null,
   "metadata": {},
   "outputs": [
    {
     "name": "stdout",
     "output_type": "stream",
     "text": [
      "\u001b[35m\u001b[1mMetaflow 2.5.4\u001b[0m\u001b[35m\u001b[22m executing \u001b[0m\u001b[31m\u001b[1mMagicDirFlow\u001b[0m\u001b[35m\u001b[22m\u001b[0m\u001b[35m\u001b[22m for \u001b[0m\u001b[31m\u001b[1muser:hamel\u001b[0m\u001b[35m\u001b[22m\u001b[K\u001b[0m\u001b[35m\u001b[22m\u001b[0m\n",
      "\u001b[35m\u001b[22mValidating your flow...\u001b[K\u001b[0m\u001b[35m\u001b[22m\u001b[0m\n",
      "\u001b[32m\u001b[1m    The graph looks good!\u001b[K\u001b[0m\u001b[32m\u001b[1m\u001b[0m\n",
      "\u001b[35m\u001b[22mRunning pylint...\u001b[K\u001b[0m\u001b[35m\u001b[22m\u001b[0m\n",
      "\u001b[32m\u001b[1m    Pylint is happy!\u001b[K\u001b[0m\u001b[32m\u001b[1m\u001b[0m\n",
      "\u001b[35m2022-04-18 13:40:59.728 \u001b[0m\u001b[1mWorkflow starting (run-id 1650314459725082):\u001b[0m\n",
      "\u001b[35m2022-04-18 13:40:59.734 \u001b[0m\u001b[32m[1650314459725082/start/1 (pid 12408)] \u001b[0m\u001b[1mTask is starting.\u001b[0m\n",
      "\u001b[35m2022-04-18 13:41:00.472 \u001b[0m\u001b[32m[1650314459725082/start/1 (pid 12408)] \u001b[0m\u001b[1mTask finished successfully.\u001b[0m\n",
      "\u001b[35m2022-04-18 13:41:00.479 \u001b[0m\u001b[32m[1650314459725082/end/2 (pid 12412)] \u001b[0m\u001b[1mTask is starting.\u001b[0m\n",
      "\u001b[35m2022-04-18 13:41:01.161 \u001b[0m\u001b[32m[1650314459725082/end/2 (pid 12412)] \u001b[0m\u001b[22mfirst hello world\u001b[0m\n",
      "\u001b[35m2022-04-18 13:41:01.245 \u001b[0m\u001b[32m[1650314459725082/end/2 (pid 12412)] \u001b[0m\u001b[22msecond hello world\u001b[0m\n",
      "\u001b[35m2022-04-18 13:41:01.246 \u001b[0m\u001b[32m[1650314459725082/end/2 (pid 12412)] \u001b[0m\u001b[1mTask finished successfully.\u001b[0m\n",
      "\u001b[35m2022-04-18 13:41:01.247 \u001b[0m\u001b[1mDone!\u001b[0m\n",
      "\u001b[0m"
     ]
    }
   ],
   "source": [
    "!python examples/example_flow.py run"
   ]
  },
  {
   "cell_type": "code",
   "execution_count": null,
   "metadata": {},
   "outputs": [],
   "source": [
    "#hide\n",
    "from pathlib import Path\n",
    "assert Path('mydir/output1').exists()\n",
    "assert Path('mydir/output2').exists()"
   ]
  },
  {
   "cell_type": "markdown",
   "metadata": {},
   "source": [
    "You can retrieve the results from the above Flow with the client api and `extract_magicdir`:"
   ]
  },
  {
   "cell_type": "markdown",
   "metadata": {},
   "source": [
    "Let's first remove the directory if it exists:"
   ]
  },
  {
   "cell_type": "code",
   "execution_count": null,
   "metadata": {},
   "outputs": [],
   "source": [
    "!rm -rf mydir/ #remove the directory if it exists"
   ]
  },
  {
   "cell_type": "code",
   "execution_count": null,
   "metadata": {},
   "outputs": [],
   "source": [
    "from metaflow import Flow\n",
    "from metaflow_magicdir import extract_magicdir\n",
    "run_data = Flow('MagicDirFlow').latest_successful_run.data\n",
    "extract_magicdir(run_data)"
   ]
  },
  {
   "cell_type": "markdown",
   "metadata": {},
   "source": [
    "We can now inspect the contents of this directory to see it's contents!"
   ]
  },
  {
   "cell_type": "code",
   "execution_count": null,
   "metadata": {},
   "outputs": [
    {
     "name": "stdout",
     "output_type": "stream",
     "text": [
      "output1 output2\n"
     ]
    }
   ],
   "source": [
    "!ls mydir/"
   ]
  },
  {
   "cell_type": "markdown",
   "metadata": {},
   "source": [
    "### `magicdir` with `foreach`\n",
    "\n",
    "Nothing special is required to use `magicdir` with foreach.  Consider the following modification to the above flow:"
   ]
  },
  {
   "cell_type": "code",
   "execution_count": null,
   "metadata": {},
   "outputs": [
    {
     "name": "stdout",
     "output_type": "stream",
     "text": [
      "Overwriting examples/mapflow.py\n"
     ]
    }
   ],
   "source": [
    "%%writefile examples/mapflow.py\n",
    "\n",
    "from metaflow import FlowSpec, step\n",
    "from metaflow_magicdir import magicdir\n",
    "\n",
    "\n",
    "class MagicDirMapFlow(FlowSpec):\n",
    "    \"\"\"Show how magic directories work with foreach\"\"\"\n",
    "\n",
    "    @step\n",
    "    def start(self):\n",
    "        self.step_num = range(5)\n",
    "        self.next(self.write, foreach='step_num')\n",
    "\n",
    "    @magicdir(dir='my_map_dir')\n",
    "    @step\n",
    "    def write(self):\n",
    "        self.step_idx = self.input # metaflow gives self.input a value from `step_num` from the prior step\n",
    "        with open(f'my_map_dir/{self.step_idx}.txt', 'w') as f:\n",
    "            f.write(f'this is step {self.step_idx}')\n",
    "        self.next(self.read)\n",
    "\n",
    "    @magicdir(dir='my_map_dir')\n",
    "    @step\n",
    "    def read(self):\n",
    "        print('file contents:', open(f'my_map_dir/{self.step_idx}.txt').read())\n",
    "        self.next(self.join)\n",
    "    \n",
    "    @step\n",
    "    def join(self, inputs):\n",
    "        print(f\"step numbers were: {[i.step_idx for i in inputs]}\")\n",
    "        self.next(self.end)\n",
    "\n",
    "    @step\n",
    "    def end(self): pass\n",
    "\n",
    "if __name__ == \"__main__\":\n",
    "    MagicDirMapFlow()\n",
    "\n",
    "if __name__ == \"__main__\":\n",
    "    MagicDirMapFlow()"
   ]
  },
  {
   "cell_type": "code",
   "execution_count": null,
   "metadata": {},
   "outputs": [
    {
     "name": "stdout",
     "output_type": "stream",
     "text": [
      "\u001b[35m\u001b[1mMetaflow 2.5.4\u001b[0m\u001b[35m\u001b[22m executing \u001b[0m\u001b[31m\u001b[1mMagicDirMapFlow\u001b[0m\u001b[35m\u001b[22m\u001b[0m\u001b[35m\u001b[22m for \u001b[0m\u001b[31m\u001b[1muser:hamel\u001b[0m\u001b[35m\u001b[22m\u001b[K\u001b[0m\u001b[35m\u001b[22m\u001b[0m\n",
      "\u001b[35m\u001b[22mValidating your flow...\u001b[K\u001b[0m\u001b[35m\u001b[22m\u001b[0m\n",
      "\u001b[32m\u001b[1m    The graph looks good!\u001b[K\u001b[0m\u001b[32m\u001b[1m\u001b[0m\n",
      "\u001b[35m\u001b[22mRunning pylint...\u001b[K\u001b[0m\u001b[35m\u001b[22m\u001b[0m\n",
      "\u001b[32m\u001b[1m    Pylint is happy!\u001b[K\u001b[0m\u001b[32m\u001b[1m\u001b[0m\n",
      "\u001b[35m2022-04-18 13:41:56.687 \u001b[0m\u001b[1mWorkflow starting (run-id 1650314516684584):\u001b[0m\n",
      "\u001b[35m2022-04-18 13:41:56.695 \u001b[0m\u001b[32m[1650314516684584/start/1 (pid 12420)] \u001b[0m\u001b[1mTask is starting.\u001b[0m\n",
      "\u001b[35m2022-04-18 13:41:57.444 \u001b[0m\u001b[32m[1650314516684584/start/1 (pid 12420)] \u001b[0m\u001b[1mForeach yields 5 child steps.\u001b[0m\n",
      "\u001b[35m2022-04-18 13:41:57.445 \u001b[0m\u001b[32m[1650314516684584/start/1 (pid 12420)] \u001b[0m\u001b[1mTask finished successfully.\u001b[0m\n",
      "\u001b[35m2022-04-18 13:41:57.452 \u001b[0m\u001b[32m[1650314516684584/write/2 (pid 12423)] \u001b[0m\u001b[1mTask is starting.\u001b[0m\n",
      "\u001b[35m2022-04-18 13:41:57.459 \u001b[0m\u001b[32m[1650314516684584/write/3 (pid 12424)] \u001b[0m\u001b[1mTask is starting.\u001b[0m\n",
      "\u001b[35m2022-04-18 13:41:57.466 \u001b[0m\u001b[32m[1650314516684584/write/4 (pid 12425)] \u001b[0m\u001b[1mTask is starting.\u001b[0m\n",
      "\u001b[35m2022-04-18 13:41:57.473 \u001b[0m\u001b[32m[1650314516684584/write/5 (pid 12426)] \u001b[0m\u001b[1mTask is starting.\u001b[0m\n",
      "\u001b[35m2022-04-18 13:41:57.481 \u001b[0m\u001b[32m[1650314516684584/write/6 (pid 12427)] \u001b[0m\u001b[1mTask is starting.\u001b[0m\n",
      "\u001b[35m2022-04-18 13:41:58.438 \u001b[0m\u001b[32m[1650314516684584/write/3 (pid 12424)] \u001b[0m\u001b[1mTask finished successfully.\u001b[0m\n",
      "\u001b[35m2022-04-18 13:41:58.450 \u001b[0m\u001b[32m[1650314516684584/read/7 (pid 12438)] \u001b[0m\u001b[1mTask is starting.\u001b[0m\n",
      "\u001b[35m2022-04-18 13:41:58.452 \u001b[0m\u001b[32m[1650314516684584/write/2 (pid 12423)] \u001b[0m\u001b[1mTask finished successfully.\u001b[0m\n",
      "\u001b[35m2022-04-18 13:41:58.463 \u001b[0m\u001b[32m[1650314516684584/read/8 (pid 12439)] \u001b[0m\u001b[1mTask is starting.\u001b[0m\n",
      "\u001b[35m2022-04-18 13:41:58.465 \u001b[0m\u001b[32m[1650314516684584/write/5 (pid 12426)] \u001b[0m\u001b[1mTask finished successfully.\u001b[0m\n",
      "\u001b[35m2022-04-18 13:41:58.473 \u001b[0m\u001b[32m[1650314516684584/read/9 (pid 12440)] \u001b[0m\u001b[1mTask is starting.\u001b[0m\n",
      "\u001b[35m2022-04-18 13:41:58.478 \u001b[0m\u001b[32m[1650314516684584/write/6 (pid 12427)] \u001b[0m\u001b[1mTask finished successfully.\u001b[0m\n",
      "\u001b[35m2022-04-18 13:41:58.487 \u001b[0m\u001b[32m[1650314516684584/read/10 (pid 12441)] \u001b[0m\u001b[1mTask is starting.\u001b[0m\n",
      "\u001b[35m2022-04-18 13:41:58.489 \u001b[0m\u001b[32m[1650314516684584/write/4 (pid 12425)] \u001b[0m\u001b[1mTask finished successfully.\u001b[0m\n",
      "\u001b[35m2022-04-18 13:41:58.496 \u001b[0m\u001b[32m[1650314516684584/read/11 (pid 12442)] \u001b[0m\u001b[1mTask is starting.\u001b[0m\n",
      "\u001b[35m2022-04-18 13:41:59.314 \u001b[0m\u001b[32m[1650314516684584/read/7 (pid 12438)] \u001b[0m\u001b[22mfile contents: this is step 1\u001b[0m\n",
      "\u001b[35m2022-04-18 13:41:59.348 \u001b[0m\u001b[32m[1650314516684584/read/8 (pid 12439)] \u001b[0m\u001b[22mfile contents: this is step 0\u001b[0m\n",
      "\u001b[35m2022-04-18 13:41:59.350 \u001b[0m\u001b[32m[1650314516684584/read/9 (pid 12440)] \u001b[0m\u001b[22mfile contents: this is step 3\u001b[0m\n",
      "\u001b[35m2022-04-18 13:41:59.362 \u001b[0m\u001b[32m[1650314516684584/read/11 (pid 12442)] \u001b[0m\u001b[22mfile contents: this is step 2\u001b[0m\n",
      "\u001b[35m2022-04-18 13:41:59.370 \u001b[0m\u001b[32m[1650314516684584/read/10 (pid 12441)] \u001b[0m\u001b[22mfile contents: this is step 4\u001b[0m\n",
      "\u001b[35m2022-04-18 13:41:59.450 \u001b[0m\u001b[32m[1650314516684584/read/7 (pid 12438)] \u001b[0m\u001b[1mTask finished successfully.\u001b[0m\n",
      "\u001b[35m2022-04-18 13:41:59.479 \u001b[0m\u001b[32m[1650314516684584/read/9 (pid 12440)] \u001b[0m\u001b[1mTask finished successfully.\u001b[0m\n",
      "\u001b[35m2022-04-18 13:41:59.482 \u001b[0m\u001b[32m[1650314516684584/read/8 (pid 12439)] \u001b[0m\u001b[1mTask finished successfully.\u001b[0m\n",
      "\u001b[35m2022-04-18 13:41:59.495 \u001b[0m\u001b[32m[1650314516684584/read/10 (pid 12441)] \u001b[0m\u001b[1mTask finished successfully.\u001b[0m\n",
      "\u001b[35m2022-04-18 13:41:59.497 \u001b[0m\u001b[32m[1650314516684584/read/11 (pid 12442)] \u001b[0m\u001b[1mTask finished successfully.\u001b[0m\n",
      "\u001b[35m2022-04-18 13:41:59.505 \u001b[0m\u001b[32m[1650314516684584/join/12 (pid 12459)] \u001b[0m\u001b[1mTask is starting.\u001b[0m\n",
      "\u001b[35m2022-04-18 13:42:00.183 \u001b[0m\u001b[32m[1650314516684584/join/12 (pid 12459)] \u001b[0m\u001b[22mstep numbers were: [0, 3, 2, 1, 4]\u001b[0m\n",
      "\u001b[35m2022-04-18 13:42:00.261 \u001b[0m\u001b[32m[1650314516684584/join/12 (pid 12459)] \u001b[0m\u001b[1mTask finished successfully.\u001b[0m\n",
      "\u001b[35m2022-04-18 13:42:00.269 \u001b[0m\u001b[32m[1650314516684584/end/13 (pid 12462)] \u001b[0m\u001b[1mTask is starting.\u001b[0m\n",
      "\u001b[35m2022-04-18 13:42:01.027 \u001b[0m\u001b[32m[1650314516684584/end/13 (pid 12462)] \u001b[0m\u001b[1mTask finished successfully.\u001b[0m\n",
      "\u001b[35m2022-04-18 13:42:01.027 \u001b[0m\u001b[1mDone!\u001b[0m\n",
      "\u001b[0m"
     ]
    }
   ],
   "source": [
    "!python examples/mapflow.py run"
   ]
  },
  {
   "cell_type": "code",
   "execution_count": null,
   "metadata": {},
   "outputs": [],
   "source": [
    "#hide\n",
    "_dir = Path('my_map_dir')\n",
    "assert len(list(_dir.glob('*'))) == 5"
   ]
  },
  {
   "cell_type": "code",
   "execution_count": null,
   "metadata": {},
   "outputs": [],
   "source": [
    "#hide\n",
    "!rm -rf mydir my_map_dir"
   ]
  }
 ],
 "metadata": {
  "kernelspec": {
   "display_name": "Python 3 (ipykernel)",
   "language": "python",
   "name": "python3"
  }
 },
 "nbformat": 4,
 "nbformat_minor": 4
}
