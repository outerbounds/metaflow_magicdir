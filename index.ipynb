{
 "cells": [
  {
   "cell_type": "markdown",
   "metadata": {},
   "source": [
    "# metaflow_magicdir\n",
    "\n",
    "> Save Entire Directories Into Metaflow's Metadata Store"
   ]
  },
  {
   "cell_type": "markdown",
   "metadata": {},
   "source": [
    "## Install"
   ]
  },
  {
   "cell_type": "markdown",
   "metadata": {},
   "source": [
    "`pip install metaflow_magicdir`"
   ]
  },
  {
   "cell_type": "markdown",
   "metadata": {},
   "source": [
    "## How to use"
   ]
  },
  {
   "cell_type": "markdown",
   "metadata": {},
   "source": [
    "You can use `@magicdir` to pass local directories between metaflow steps.  This will also work remotely."
   ]
  },
  {
   "cell_type": "markdown",
   "metadata": {},
   "source": [
    "```python\n",
    "# examples/example_flow.py\n",
    "\n",
    "from metaflow import FlowSpec, step\n",
    "from metaflow_magicdir import magicdir\n",
    "\n",
    "\n",
    "class MagicDirFlow(FlowSpec):\n",
    "\n",
    "    @magicdir(dir='mydir')\n",
    "    @step\n",
    "    def start(self):\n",
    "        with open('mydir/output1', 'w') as f:\n",
    "            f.write('hello world')\n",
    "        with open('mydir/output2', 'w') as f:\n",
    "            f.write('hello world again')\n",
    "        self.next(self.end)\n",
    "\n",
    "    @magicdir(dir='mydir')\n",
    "    @step\n",
    "    def end(self):\n",
    "        print('first', open('mydir/output1').read())\n",
    "        print('second', open('mydir/output1').read())\n",
    "\n",
    "if __name__ == \"__main__\":\n",
    "    MagicDirFlow()\n",
    "```"
   ]
  },
  {
   "cell_type": "markdown",
   "metadata": {},
   "source": [
    "If you run the above flow, you will see the following output:"
   ]
  },
  {
   "cell_type": "markdown",
   "metadata": {},
   "source": [
    "> python examples/example_flow.py run\n",
    "\n",
    "```\n",
    "Metaflow 2.5.4 executing MagicDirFlow for user:hamel\n",
    "Validating your flow...\n",
    "    The graph looks good!\n",
    "Running pylint...\n",
    "    Pylint is happy!\n",
    "2022-04-18 13:53:24.077 Workflow starting (run-id 1650315204073458):\n",
    "2022-04-18 13:53:24.083 [1650315204073458/start/1 (pid 13299)] Task is starting.\n",
    "2022-04-18 13:53:24.834 [1650315204073458/start/1 (pid 13299)] Task finished successfully.\n",
    "2022-04-18 13:53:24.840 [1650315204073458/end/2 (pid 13302)] Task is starting.\n",
    "2022-04-18 13:53:25.527 [1650315204073458/end/2 (pid 13302)] first hello world\n",
    "2022-04-18 13:53:25.608 [1650315204073458/end/2 (pid 13302)] second hello world\n",
    "2022-04-18 13:53:25.609 [1650315204073458/end/2 (pid 13302)] Task finished successfully.\n",
    "2022-04-18 13:53:25.610 Done!\n",
    "```"
   ]
  },
  {
   "cell_type": "code",
   "execution_count": 33,
   "metadata": {},
   "outputs": [
    {
     "name": "stdout",
     "output_type": "stream",
     "text": [
      "\u001b[35m\u001b[1mMetaflow 2.5.4\u001b[0m\u001b[35m\u001b[22m executing \u001b[0m\u001b[31m\u001b[1mMagicDirFlow\u001b[0m\u001b[35m\u001b[22m\u001b[0m\u001b[35m\u001b[22m for \u001b[0m\u001b[31m\u001b[1muser:hamel\u001b[0m\u001b[35m\u001b[22m\u001b[K\u001b[0m\u001b[35m\u001b[22m\u001b[0m\n",
      "\u001b[35m\u001b[22mValidating your flow...\u001b[K\u001b[0m\u001b[35m\u001b[22m\u001b[0m\n",
      "\u001b[32m\u001b[1m    The graph looks good!\u001b[K\u001b[0m\u001b[32m\u001b[1m\u001b[0m\n",
      "\u001b[35m\u001b[22mRunning pylint...\u001b[K\u001b[0m\u001b[35m\u001b[22m\u001b[0m\n",
      "\u001b[32m\u001b[1m    Pylint is happy!\u001b[K\u001b[0m\u001b[32m\u001b[1m\u001b[0m\n",
      "\u001b[35m2022-04-18 13:53:24.077 \u001b[0m\u001b[1mWorkflow starting (run-id 1650315204073458):\u001b[0m\n",
      "\u001b[35m2022-04-18 13:53:24.083 \u001b[0m\u001b[32m[1650315204073458/start/1 (pid 13299)] \u001b[0m\u001b[1mTask is starting.\u001b[0m\n",
      "\u001b[35m2022-04-18 13:53:24.834 \u001b[0m\u001b[32m[1650315204073458/start/1 (pid 13299)] \u001b[0m\u001b[1mTask finished successfully.\u001b[0m\n",
      "\u001b[35m2022-04-18 13:53:24.840 \u001b[0m\u001b[32m[1650315204073458/end/2 (pid 13302)] \u001b[0m\u001b[1mTask is starting.\u001b[0m\n",
      "\u001b[35m2022-04-18 13:53:25.527 \u001b[0m\u001b[32m[1650315204073458/end/2 (pid 13302)] \u001b[0m\u001b[22mfirst hello world\u001b[0m\n",
      "\u001b[35m2022-04-18 13:53:25.608 \u001b[0m\u001b[32m[1650315204073458/end/2 (pid 13302)] \u001b[0m\u001b[22msecond hello world\u001b[0m\n",
      "\u001b[35m2022-04-18 13:53:25.609 \u001b[0m\u001b[32m[1650315204073458/end/2 (pid 13302)] \u001b[0m\u001b[1mTask finished successfully.\u001b[0m\n",
      "\u001b[35m2022-04-18 13:53:25.610 \u001b[0m\u001b[1mDone!\u001b[0m\n",
      "\u001b[0m"
     ]
    }
   ],
   "source": [
    "#hide\n",
    "!python examples/example_flow.py run;"
   ]
  },
  {
   "cell_type": "code",
   "execution_count": 34,
   "metadata": {},
   "outputs": [],
   "source": [
    "#hide\n",
    "from pathlib import Path\n",
    "assert Path('mydir/output1').exists()\n",
    "assert Path('mydir/output2').exists()"
   ]
  },
  {
   "cell_type": "markdown",
   "metadata": {},
   "source": [
    "You can retrieve the results from the above Flow with the client api and `extract_magicdir`:"
   ]
  },
  {
   "cell_type": "markdown",
   "metadata": {},
   "source": [
    "Let's first remove the directory if it exists:"
   ]
  },
  {
   "cell_type": "code",
   "execution_count": 35,
   "metadata": {},
   "outputs": [],
   "source": [
    "!rm -rf mydir/ #remove the directory if it exists"
   ]
  },
  {
   "cell_type": "code",
   "execution_count": 36,
   "metadata": {},
   "outputs": [],
   "source": [
    "from metaflow import Flow\n",
    "from metaflow_magicdir import extract_magicdir\n",
    "run_data = Flow('MagicDirFlow').latest_successful_run.data\n",
    "extract_magicdir(run_data)"
   ]
  },
  {
   "cell_type": "markdown",
   "metadata": {},
   "source": [
    "We can now inspect the contents of this directory to see it's contents!"
   ]
  },
  {
   "cell_type": "code",
   "execution_count": 37,
   "metadata": {},
   "outputs": [
    {
     "name": "stdout",
     "output_type": "stream",
     "text": [
      "output1 output2\n"
     ]
    }
   ],
   "source": [
    "!ls mydir/"
   ]
  },
  {
   "cell_type": "markdown",
   "metadata": {},
   "source": [
    "### `magicdir` with `foreach`\n",
    "\n",
    "Nothing special is required to use `magicdir` with foreach.  Consider the following modification to the above flow:"
   ]
  },
  {
   "cell_type": "markdown",
   "metadata": {},
   "source": [
    "```python\n",
    "#examples/mapflow.py\n",
    "\n",
    "from metaflow import FlowSpec, step\n",
    "from metaflow_magicdir import magicdir\n",
    "\n",
    "\n",
    "class MagicDirMapFlow(FlowSpec):\n",
    "    \"\"\"Show how magic directories work with foreach\"\"\"\n",
    "\n",
    "    @step\n",
    "    def start(self):\n",
    "        self.step_num = range(5)\n",
    "        self.next(self.write, foreach='step_num')\n",
    "\n",
    "    @magicdir(dir='my_map_dir')\n",
    "    @step\n",
    "    def write(self):\n",
    "        self.step_idx = self.input # metaflow gives self.input a value from `step_num` from the prior step\n",
    "        with open(f'my_map_dir/{self.step_idx}.txt', 'w') as f:\n",
    "            f.write(f'this is step {self.step_idx}')\n",
    "        self.next(self.read)\n",
    "\n",
    "    @magicdir(dir='my_map_dir')\n",
    "    @step\n",
    "    def read(self):\n",
    "        print('file contents:', open(f'my_map_dir/{self.step_idx}.txt').read())\n",
    "        self.next(self.join)\n",
    "    \n",
    "    @step\n",
    "    def join(self, inputs):\n",
    "        print(f\"step numbers were: {[i.step_idx for i in inputs]}\")\n",
    "        self.next(self.end)\n",
    "\n",
    "    @step\n",
    "    def end(self): pass\n",
    "\n",
    "if __name__ == \"__main__\":\n",
    "    MagicDirMapFlow()\n",
    "\n",
    "if __name__ == \"__main__\":\n",
    "    MagicDirMapFlow()\n",
    "```"
   ]
  },
  {
   "cell_type": "markdown",
   "metadata": {},
   "source": [
    "> python examples/mapflow.py run\n",
    "\n",
    "```\n",
    "Metaflow 2.5.4 executing MagicDirMapFlow for user:hamel\n",
    "Validating your flow...\n",
    "    The graph looks good!\n",
    "Running pylint...\n",
    "    Pylint is happy!\n",
    "2022-04-18 13:41:56.687 Workflow starting (run-id 1650314516684584):\n",
    "2022-04-18 13:41:56.695 [1650314516684584/start/1 (pid 12420)] Task is starting.\n",
    "2022-04-18 13:41:57.444 [1650314516684584/start/1 (pid 12420)] Foreach yields 5 child steps.\n",
    "2022-04-18 13:41:57.445 [1650314516684584/start/1 (pid 12420)] Task finished successfully.\n",
    "2022-04-18 13:41:57.452 [1650314516684584/write/2 (pid 12423)] Task is starting.\n",
    "2022-04-18 13:41:57.459 [1650314516684584/write/3 (pid 12424)] Task is starting.\n",
    "2022-04-18 13:41:57.466 [1650314516684584/write/4 (pid 12425)] Task is starting.\n",
    "2022-04-18 13:41:57.473 [1650314516684584/write/5 (pid 12426)] Task is starting.\n",
    "2022-04-18 13:41:57.481 [1650314516684584/write/6 (pid 12427)] Task is starting.\n",
    "2022-04-18 13:41:58.438 [1650314516684584/write/3 (pid 12424)] Task finished successfully.\n",
    "2022-04-18 13:41:58.450 [1650314516684584/read/7 (pid 12438)] Task is starting.\n",
    "2022-04-18 13:41:58.452 [1650314516684584/write/2 (pid 12423)] Task finished successfully.\n",
    "2022-04-18 13:41:58.463 [1650314516684584/read/8 (pid 12439)] Task is starting.\n",
    "2022-04-18 13:41:58.465 [1650314516684584/write/5 (pid 12426)] Task finished successfully.\n",
    "2022-04-18 13:41:58.473 [1650314516684584/read/9 (pid 12440)] Task is starting.\n",
    "2022-04-18 13:41:58.478 [1650314516684584/write/6 (pid 12427)] Task finished successfully.\n",
    "2022-04-18 13:41:58.487 [1650314516684584/read/10 (pid 12441)] Task is starting.\n",
    "2022-04-18 13:41:58.489 [1650314516684584/write/4 (pid 12425)] Task finished successfully.\n",
    "2022-04-18 13:41:58.496 [1650314516684584/read/11 (pid 12442)] Task is starting.\n",
    "2022-04-18 13:41:59.314 [1650314516684584/read/7 (pid 12438)] file contents: this is step 1\n",
    "2022-04-18 13:41:59.348 [1650314516684584/read/8 (pid 12439)] file contents: this is step 0\n",
    "2022-04-18 13:41:59.350 [1650314516684584/read/9 (pid 12440)] file contents: this is step 3\n",
    "2022-04-18 13:41:59.362 [1650314516684584/read/11 (pid 12442)] file contents: this is step 2\n",
    "2022-04-18 13:41:59.370 [1650314516684584/read/10 (pid 12441)] file contents: this is step 4\n",
    "2022-04-18 13:41:59.450 [1650314516684584/read/7 (pid 12438)] Task finished successfully.\n",
    "2022-04-18 13:41:59.479 [1650314516684584/read/9 (pid 12440)] Task finished successfully.\n",
    "2022-04-18 13:41:59.482 [1650314516684584/read/8 (pid 12439)] Task finished successfully.\n",
    "2022-04-18 13:41:59.495 [1650314516684584/read/10 (pid 12441)] Task finished successfully.\n",
    "2022-04-18 13:41:59.497 [1650314516684584/read/11 (pid 12442)] Task finished successfully.\n",
    "2022-04-18 13:41:59.505 [1650314516684584/join/12 (pid 12459)] Task is starting.\n",
    "2022-04-18 13:42:00.183 [1650314516684584/join/12 (pid 12459)] step numbers were: [0, 3, 2, 1, 4]\n",
    "2022-04-18 13:42:00.261 [1650314516684584/join/12 (pid 12459)] Task finished successfully.\n",
    "2022-04-18 13:42:00.269 [1650314516684584/end/13 (pid 12462)] Task is starting.\n",
    "2022-04-18 13:42:01.027 [1650314516684584/end/13 (pid 12462)] Task finished successfully.\n",
    "2022-04-18 13:42:01.027 Done!\n",
    "```"
   ]
  },
  {
   "cell_type": "code",
   "execution_count": 38,
   "metadata": {},
   "outputs": [
    {
     "name": "stdout",
     "output_type": "stream",
     "text": [
      "\u001b[35m\u001b[1mMetaflow 2.5.4\u001b[0m\u001b[35m\u001b[22m executing \u001b[0m\u001b[31m\u001b[1mMagicDirMapFlow\u001b[0m\u001b[35m\u001b[22m\u001b[0m\u001b[35m\u001b[22m for \u001b[0m\u001b[31m\u001b[1muser:hamel\u001b[0m\u001b[35m\u001b[22m\u001b[K\u001b[0m\u001b[35m\u001b[22m\u001b[0m\n",
      "\u001b[35m\u001b[22mValidating your flow...\u001b[K\u001b[0m\u001b[35m\u001b[22m\u001b[0m\n",
      "\u001b[32m\u001b[1m    The graph looks good!\u001b[K\u001b[0m\u001b[32m\u001b[1m\u001b[0m\n",
      "\u001b[35m\u001b[22mRunning pylint...\u001b[K\u001b[0m\u001b[35m\u001b[22m\u001b[0m\n",
      "\u001b[32m\u001b[1m    Pylint is happy!\u001b[K\u001b[0m\u001b[32m\u001b[1m\u001b[0m\n",
      "\u001b[35m2022-04-18 13:54:40.465 \u001b[0m\u001b[1mWorkflow starting (run-id 1650315280461869):\u001b[0m\n",
      "\u001b[35m2022-04-18 13:54:40.472 \u001b[0m\u001b[32m[1650315280461869/start/1 (pid 13316)] \u001b[0m\u001b[1mTask is starting.\u001b[0m\n",
      "\u001b[35m2022-04-18 13:54:41.233 \u001b[0m\u001b[32m[1650315280461869/start/1 (pid 13316)] \u001b[0m\u001b[1mForeach yields 5 child steps.\u001b[0m\n",
      "\u001b[35m2022-04-18 13:54:41.233 \u001b[0m\u001b[32m[1650315280461869/start/1 (pid 13316)] \u001b[0m\u001b[1mTask finished successfully.\u001b[0m\n",
      "\u001b[35m2022-04-18 13:54:41.240 \u001b[0m\u001b[32m[1650315280461869/write/2 (pid 13319)] \u001b[0m\u001b[1mTask is starting.\u001b[0m\n",
      "\u001b[35m2022-04-18 13:54:41.247 \u001b[0m\u001b[32m[1650315280461869/write/3 (pid 13320)] \u001b[0m\u001b[1mTask is starting.\u001b[0m\n",
      "\u001b[35m2022-04-18 13:54:41.254 \u001b[0m\u001b[32m[1650315280461869/write/4 (pid 13321)] \u001b[0m\u001b[1mTask is starting.\u001b[0m\n",
      "\u001b[35m2022-04-18 13:54:41.261 \u001b[0m\u001b[32m[1650315280461869/write/5 (pid 13322)] \u001b[0m\u001b[1mTask is starting.\u001b[0m\n",
      "\u001b[35m2022-04-18 13:54:41.268 \u001b[0m\u001b[32m[1650315280461869/write/6 (pid 13323)] \u001b[0m\u001b[1mTask is starting.\u001b[0m\n",
      "\u001b[35m2022-04-18 13:54:42.239 \u001b[0m\u001b[32m[1650315280461869/write/3 (pid 13320)] \u001b[0m\u001b[1mTask finished successfully.\u001b[0m\n",
      "\u001b[35m2022-04-18 13:54:42.248 \u001b[0m\u001b[32m[1650315280461869/read/7 (pid 13334)] \u001b[0m\u001b[1mTask is starting.\u001b[0m\n",
      "\u001b[35m2022-04-18 13:54:42.250 \u001b[0m\u001b[32m[1650315280461869/write/4 (pid 13321)] \u001b[0m\u001b[1mTask finished successfully.\u001b[0m\n",
      "\u001b[35m2022-04-18 13:54:42.250 \u001b[0m\u001b[32m[1650315280461869/write/2 (pid 13319)] \u001b[0m\u001b[1mTask finished successfully.\u001b[0m\n",
      "\u001b[35m2022-04-18 13:54:42.251 \u001b[0m\u001b[32m[1650315280461869/write/5 (pid 13322)] \u001b[0m\u001b[1mTask finished successfully.\u001b[0m\n",
      "\u001b[35m2022-04-18 13:54:42.251 \u001b[0m\u001b[32m[1650315280461869/write/6 (pid 13323)] \u001b[0m\u001b[1mTask finished successfully.\u001b[0m\n",
      "\u001b[35m2022-04-18 13:54:42.259 \u001b[0m\u001b[32m[1650315280461869/read/8 (pid 13335)] \u001b[0m\u001b[1mTask is starting.\u001b[0m\n",
      "\u001b[35m2022-04-18 13:54:42.266 \u001b[0m\u001b[32m[1650315280461869/read/9 (pid 13336)] \u001b[0m\u001b[1mTask is starting.\u001b[0m\n",
      "\u001b[35m2022-04-18 13:54:42.273 \u001b[0m\u001b[32m[1650315280461869/read/10 (pid 13337)] \u001b[0m\u001b[1mTask is starting.\u001b[0m\n",
      "\u001b[35m2022-04-18 13:54:42.280 \u001b[0m\u001b[32m[1650315280461869/read/11 (pid 13338)] \u001b[0m\u001b[1mTask is starting.\u001b[0m\n",
      "\u001b[35m2022-04-18 13:54:43.120 \u001b[0m\u001b[32m[1650315280461869/read/8 (pid 13335)] \u001b[0m\u001b[22mfile contents: this is step 2\u001b[0m\n",
      "\u001b[35m2022-04-18 13:54:43.125 \u001b[0m\u001b[32m[1650315280461869/read/7 (pid 13334)] \u001b[0m\u001b[22mfile contents: this is step 1\u001b[0m\n",
      "\u001b[35m2022-04-18 13:54:43.139 \u001b[0m\u001b[32m[1650315280461869/read/9 (pid 13336)] \u001b[0m\u001b[22mfile contents: this is step 0\u001b[0m\n",
      "\u001b[35m2022-04-18 13:54:43.153 \u001b[0m\u001b[32m[1650315280461869/read/10 (pid 13337)] \u001b[0m\u001b[22mfile contents: this is step 3\u001b[0m\n",
      "\u001b[35m2022-04-18 13:54:43.161 \u001b[0m\u001b[32m[1650315280461869/read/11 (pid 13338)] \u001b[0m\u001b[22mfile contents: this is step 4\u001b[0m\n",
      "\u001b[35m2022-04-18 13:54:43.249 \u001b[0m\u001b[32m[1650315280461869/read/7 (pid 13334)] \u001b[0m\u001b[1mTask finished successfully.\u001b[0m\n",
      "\u001b[35m2022-04-18 13:54:43.256 \u001b[0m\u001b[32m[1650315280461869/read/8 (pid 13335)] \u001b[0m\u001b[1mTask finished successfully.\u001b[0m\n",
      "\u001b[35m2022-04-18 13:54:43.260 \u001b[0m\u001b[32m[1650315280461869/read/9 (pid 13336)] \u001b[0m\u001b[1mTask finished successfully.\u001b[0m\n",
      "\u001b[35m2022-04-18 13:54:43.277 \u001b[0m\u001b[32m[1650315280461869/read/10 (pid 13337)] \u001b[0m\u001b[1mTask finished successfully.\u001b[0m\n",
      "\u001b[35m2022-04-18 13:54:43.292 \u001b[0m\u001b[32m[1650315280461869/read/11 (pid 13338)] \u001b[0m\u001b[1mTask finished successfully.\u001b[0m\n",
      "\u001b[35m2022-04-18 13:54:43.299 \u001b[0m\u001b[32m[1650315280461869/join/12 (pid 13355)] \u001b[0m\u001b[1mTask is starting.\u001b[0m\n",
      "\u001b[35m2022-04-18 13:54:43.994 \u001b[0m\u001b[32m[1650315280461869/join/12 (pid 13355)] \u001b[0m\u001b[22mstep numbers were: [0, 1, 2, 3, 4]\u001b[0m\n",
      "\u001b[35m2022-04-18 13:54:44.072 \u001b[0m\u001b[32m[1650315280461869/join/12 (pid 13355)] \u001b[0m\u001b[1mTask finished successfully.\u001b[0m\n",
      "\u001b[35m2022-04-18 13:54:44.080 \u001b[0m\u001b[32m[1650315280461869/end/13 (pid 13358)] \u001b[0m\u001b[1mTask is starting.\u001b[0m\n",
      "\u001b[35m2022-04-18 13:54:44.828 \u001b[0m\u001b[32m[1650315280461869/end/13 (pid 13358)] \u001b[0m\u001b[1mTask finished successfully.\u001b[0m\n",
      "\u001b[35m2022-04-18 13:54:44.828 \u001b[0m\u001b[1mDone!\u001b[0m\n",
      "\u001b[0m"
     ]
    }
   ],
   "source": [
    "#hide\n",
    "!python examples/mapflow.py run"
   ]
  },
  {
   "cell_type": "code",
   "execution_count": 39,
   "metadata": {},
   "outputs": [],
   "source": [
    "#hide\n",
    "_dir = Path('my_map_dir')\n",
    "assert len(list(_dir.glob('*'))) == 5"
   ]
  },
  {
   "cell_type": "code",
   "execution_count": 40,
   "metadata": {},
   "outputs": [],
   "source": [
    "#hide\n",
    "!rm -rf mydir my_map_dir"
   ]
  }
 ],
 "metadata": {
  "kernelspec": {
   "display_name": "Python 3 (ipykernel)",
   "language": "python",
   "name": "python3"
  },
  "language_info": {
   "codemirror_mode": {
    "name": "ipython",
    "version": 3
   },
   "file_extension": ".py",
   "mimetype": "text/x-python",
   "name": "python",
   "nbconvert_exporter": "python",
   "pygments_lexer": "ipython3",
   "version": "3.9.7"
  }
 },
 "nbformat": 4,
 "nbformat_minor": 4
}
